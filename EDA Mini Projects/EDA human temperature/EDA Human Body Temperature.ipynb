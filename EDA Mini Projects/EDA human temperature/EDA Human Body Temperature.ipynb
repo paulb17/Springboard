{
 "cells": [
  {
   "cell_type": "markdown",
   "metadata": {},
   "source": [
    "# What is the True Normal Human Body Temperature? \n",
    "\n",
    "#### Background\n",
    "\n",
    "The mean normal body temperature was held to be 37$^{\\circ}$C or 98.6$^{\\circ}$F for more than 120 years since it was first conceptualized and reported by Carl Wunderlich in a famous 1868 book. But, is this value statistically correct?"
   ]
  },
  {
   "cell_type": "markdown",
   "metadata": {},
   "source": [
    "<h3>Exercises</h3>\n",
    "\n",
    "<p>In this exercise, you will analyze a dataset of human body temperatures and employ the concepts of hypothesis testing, confidence intervals, and statistical significance.</p>\n",
    "\n",
    "<p>Answer the following questions <b>in this notebook below and submit to your Github account</b>.</p> \n",
    "\n",
    "<ol>\n",
    "<li>  Is the distribution of body temperatures normal? \n",
    "    <ul>\n",
    "    <li> Although this is not a requirement for the Central Limit Theorem to hold (read the introduction on Wikipedia's page about the CLT carefully: https://en.wikipedia.org/wiki/Central_limit_theorem), it gives us some peace of mind that the population may also be normally distributed if we assume that this sample is representative of the population.\n",
    "    <li> Think about the way you're going to check for the normality of the distribution. Graphical methods are usually used first, but there are also other ways: https://en.wikipedia.org/wiki/Normality_test\n",
    "    </ul>\n",
    "<li>  Is the sample size large? Are the observations independent?\n",
    "    <ul>\n",
    "    <li> Remember that this is a condition for the Central Limit Theorem, and hence the statistical tests we are using, to apply.\n",
    "    </ul>\n",
    "<li>  Is the true population mean really 98.6 degrees F?\n",
    "    <ul>\n",
    "    <li> First, try a bootstrap hypothesis test.\n",
    "    <li> Now, let's try frequentist statistical testing. Would you use a one-sample or two-sample test? Why?\n",
    "    <li> In this situation, is it appropriate to use the $t$ or $z$ statistic? \n",
    "    <li> Now try using the other test. How is the result be different? Why?\n",
    "    </ul>\n",
    "<li>  Draw a small sample of size 10 from the data and repeat both frequentist tests. \n",
    "    <ul>\n",
    "    <li> Which one is the correct one to use? \n",
    "    <li> What do you notice? What does this tell you about the difference in application of the $t$ and $z$ statistic?\n",
    "    </ul>\n",
    "<li>  At what temperature should we consider someone's temperature to be \"abnormal\"?\n",
    "    <ul>\n",
    "    <li> As in the previous example, try calculating everything using the boostrap approach, as well as the frequentist approach.\n",
    "    <li> Start by computing the margin of error and confidence interval. When calculating the confidence interval, keep in mind that you should use the appropriate formula for one draw, and not N draws.\n",
    "    </ul>\n",
    "<li>  Is there a significant difference between males and females in normal temperature?\n",
    "    <ul>\n",
    "    <li> What testing approach did you use and why?\n",
    "    <li> Write a story with your conclusion in the context of the original problem.\n",
    "    </ul>\n",
    "</ol>\n",
    "\n",
    "You can include written notes in notebook cells using Markdown: \n",
    "   - In the control panel at the top, choose Cell > Cell Type > Markdown\n",
    "   - Markdown syntax: http://nestacms.com/docs/creating-content/markdown-cheat-sheet"
   ]
  },
  {
   "cell_type": "markdown",
   "metadata": {},
   "source": [
    "## Importing the dataset and relevant packages"
   ]
  },
  {
   "cell_type": "code",
   "execution_count": 1,
   "metadata": {},
   "outputs": [],
   "source": [
    "# importing relevant packages/functions\n",
    "import pandas as pd\n",
    "import numpy as np \n",
    "import matplotlib.pyplot as plt\n",
    "import seaborn as sns\n",
    "import scipy.stats as st \n",
    "\n",
    "# setting style of graphs \n",
    "sns.set()\n",
    "\n",
    "# Importing the dataset \n",
    "df = pd.read_csv('data/human_body_temperature.csv')"
   ]
  },
  {
   "cell_type": "markdown",
   "metadata": {},
   "source": [
    "Before we begin answering any questions its always a good idea to check that the data was imported correctly and get an idea of what columns we will be working with. "
   ]
  },
  {
   "cell_type": "code",
   "execution_count": 2,
   "metadata": {},
   "outputs": [
    {
     "data": {
      "text/html": [
       "<div>\n",
       "<style scoped>\n",
       "    .dataframe tbody tr th:only-of-type {\n",
       "        vertical-align: middle;\n",
       "    }\n",
       "\n",
       "    .dataframe tbody tr th {\n",
       "        vertical-align: top;\n",
       "    }\n",
       "\n",
       "    .dataframe thead th {\n",
       "        text-align: right;\n",
       "    }\n",
       "</style>\n",
       "<table border=\"1\" class=\"dataframe\">\n",
       "  <thead>\n",
       "    <tr style=\"text-align: right;\">\n",
       "      <th></th>\n",
       "      <th>temperature</th>\n",
       "      <th>gender</th>\n",
       "      <th>heart_rate</th>\n",
       "    </tr>\n",
       "  </thead>\n",
       "  <tbody>\n",
       "    <tr>\n",
       "      <th>0</th>\n",
       "      <td>99.3</td>\n",
       "      <td>F</td>\n",
       "      <td>68.0</td>\n",
       "    </tr>\n",
       "    <tr>\n",
       "      <th>1</th>\n",
       "      <td>98.4</td>\n",
       "      <td>F</td>\n",
       "      <td>81.0</td>\n",
       "    </tr>\n",
       "    <tr>\n",
       "      <th>2</th>\n",
       "      <td>97.8</td>\n",
       "      <td>M</td>\n",
       "      <td>73.0</td>\n",
       "    </tr>\n",
       "    <tr>\n",
       "      <th>3</th>\n",
       "      <td>99.2</td>\n",
       "      <td>F</td>\n",
       "      <td>66.0</td>\n",
       "    </tr>\n",
       "    <tr>\n",
       "      <th>4</th>\n",
       "      <td>98.0</td>\n",
       "      <td>F</td>\n",
       "      <td>73.0</td>\n",
       "    </tr>\n",
       "  </tbody>\n",
       "</table>\n",
       "</div>"
      ],
      "text/plain": [
       "   temperature gender  heart_rate\n",
       "0         99.3      F        68.0\n",
       "1         98.4      F        81.0\n",
       "2         97.8      M        73.0\n",
       "3         99.2      F        66.0\n",
       "4         98.0      F        73.0"
      ]
     },
     "execution_count": 2,
     "metadata": {},
     "output_type": "execute_result"
    }
   ],
   "source": [
    "# Viewing the first few rows of the data \n",
    "df.head()"
   ]
  },
  {
   "cell_type": "markdown",
   "metadata": {},
   "source": [
    "We see from above that our dataset is composed of just three columns:\n",
    "1. temperature - a measure of the human body temperature in Farenheit\n",
    "2. gender - the gender of each participant\n",
    "3. heart_rate - the number of hear bears per minute of each participant\n",
    "\n",
    "Next, let's do a quick check for null values in all the columns. "
   ]
  },
  {
   "cell_type": "code",
   "execution_count": 3,
   "metadata": {},
   "outputs": [
    {
     "data": {
      "text/plain": [
       "temperature    0\n",
       "gender         0\n",
       "heart_rate     0\n",
       "dtype: int64"
      ]
     },
     "execution_count": 3,
     "metadata": {},
     "output_type": "execute_result"
    }
   ],
   "source": [
    "# checking for the number of null values in the numerical columns\n",
    "pd.isnull(df).sum()"
   ]
  },
  {
   "cell_type": "markdown",
   "metadata": {},
   "source": [
    "Finally, lets do a quick check of what categories exist in the gender column. "
   ]
  },
  {
   "cell_type": "code",
   "execution_count": 4,
   "metadata": {},
   "outputs": [
    {
     "data": {
      "text/plain": [
       "F    65\n",
       "M    65\n",
       "Name: gender, dtype: int64"
      ]
     },
     "execution_count": 4,
     "metadata": {},
     "output_type": "execute_result"
    },
    {
     "data": {
      "image/png": "[encoded data removed]",
      "text/plain": [
       "<matplotlib.figure.Figure at 0x113486898>"
      ]
     },
     "metadata": {},
     "output_type": "display_data"
    }
   ],
   "source": [
    "# checking the categories and counts in the gender column using a bar chart \n",
    "plt.figure(figsize = (8,8))\n",
    "plt.title('Figure 1: Gender count')\n",
    "sns.countplot(x = 'gender', data=df, palette='GnBu_d')\n",
    "\n",
    "# showing the gender count\n",
    "df.gender.value_counts()"
   ]
  },
  {
   "cell_type": "markdown",
   "metadata": {},
   "source": [
    "The data set contains an equal number of males and females. Now that we are aware of these details, we can begin answering the above questions. "
   ]
  },
  {
   "cell_type": "markdown",
   "metadata": {
    "collapsed": true
   },
   "source": [
    "## Question 1: Is the distribution of body temperatures normal?\n",
    "In order to determine whether the distribution of body temperatures is normal a [normal probability plot](https://en.wikipedia.org/wiki/Normal_probability_plot) will be made. The code for this is below:"
   ]
  },
  {
   "cell_type": "code",
   "execution_count": 5,
   "metadata": {},
   "outputs": [
    {
     "data": {
      "image/png": "[encoded data removed]",
      "text/plain": [
       "<matplotlib.figure.Figure at 0x11366ecc0>"
      ]
     },
     "metadata": {},
     "output_type": "display_data"
    },
    {
     "name": "stdout",
     "output_type": "stream",
     "text": [
      "Correlation coefficient:0.991572003659\n"
     ]
    }
   ],
   "source": [
    "# creating a normal probability plot \n",
    "plt.figure(figsize=(10,10))\n",
    "arrays, regression_line = st.probplot(df.temperature, plot=plt)\n",
    "plt.ylabel('Ordered Temperature Values (F)')\n",
    "plt.title('Figure 2: Probability Plot')\n",
    "plt.show()\n",
    "\n",
    "\n",
    "# printing the coefficient of determination\n",
    "slope, intercept, r = regression_line\n",
    "print('Correlation coefficient:' + str(r))"
   ]
  },
  {
   "cell_type": "markdown",
   "metadata": {},
   "source": [
    "Visually, the probability plot shows a strongly linear pattern. This is verified by the correlation coefficient (0.9915) of the line fit to the probability plot. The fact that a point in the upper extreme of the plot deviates significantly from the straight-line pattern indicates that there may be at least one outlier (relative to a normal distribution). Nevertheless, we can quite reasonably conclude that the normal distribution provides an excellent model for the data. "
   ]
  },
  {
   "cell_type": "markdown",
   "metadata": {},
   "source": [
    "## Question 2: Is the sample size large? Are the observations independent?\n",
    "\n",
    "To answer the first question, let's start by checking the size of the number of observations in the dataset."
   ]
  },
  {
   "cell_type": "code",
   "execution_count": 6,
   "metadata": {},
   "outputs": [
    {
     "name": "stdout",
     "output_type": "stream",
     "text": [
      "The number of observations in the dataset: 130\n"
     ]
    }
   ],
   "source": [
    "# printing the number of observations in the dataset\n",
    "print('The number of observations in the dataset: '  + str(len(df)))"
   ]
  },
  {
   "cell_type": "markdown",
   "metadata": {},
   "source": [
    "From above we see that there are a total of 160 observations in the dataset. As we are aware that the Central Limit theorem only requires 30 observations, we can conclude that the sample size is sufficient for our purposes. \n",
    "\n",
    "There is no information provided to outrightly determine that the observations are independent. However, it is unlikely that one participants body temperature or heart rate will be affected by anothers. This makes it reasonable to claim the observations are independent."
   ]
  },
  {
   "cell_type": "markdown",
   "metadata": {},
   "source": [
    "## Question 3: Is the true population mean really 98.6 degrees F?\n",
    "A variety of methods will be used to determine whether the population mean is likely 98.6 F\n",
    "\n",
    "### 1. Bootstrap Hypothesis Test\n",
    "The null and alternative hypotheses are shown below:\n",
    "* H<sub>0</sub> : $\\mu$ = 98.6F\n",
    "* H<sub>1</sub> : $\\mu\\neq$ 98.6F"
   ]
  },
  {
   "cell_type": "markdown",
   "metadata": {},
   "source": [
    "To test the above hypothesis, we shall construct an array of 50,000 bootstrap replicates and calculate the p-value. The construction of the bootstrap replicates array is shown below."
   ]
  },
  {
   "cell_type": "code",
   "execution_count": 7,
   "metadata": {},
   "outputs": [],
   "source": [
    "# creating empty array for bootstrap replicates\n",
    "size = 50000\n",
    "bootstrap_replicates = np.empty(size)\n",
    "\n",
    "# calculating shifted temperature values\n",
    "shift_temp = df.temperature - df.temperature.mean() + 98.6\n",
    "\n",
    "# filling the bootstrap replicates array\n",
    "for i in range(size):\n",
    "    bootstrap_sample = np.random.choice(shift_temp, size=len(shift_temp))\n",
    "    bootstrap_replicates[i] = np.mean(bootstrap_sample)\n"
   ]
  },
  {
   "cell_type": "markdown",
   "metadata": {},
   "source": [
    "To determine how we calculate the p-value, we need to know the sample mean of the dataset."
   ]
  },
  {
   "cell_type": "code",
   "execution_count": 8,
   "metadata": {},
   "outputs": [
    {
     "name": "stdout",
     "output_type": "stream",
     "text": [
      "The mean of the temperature observations: 98.2492307692\n"
     ]
    }
   ],
   "source": [
    "print('The mean of the temperature observations: ' + str(df.temperature.mean()))"
   ]
  },
  {
   "cell_type": "markdown",
   "metadata": {},
   "source": [
    "Since the mean temperature observation in our dataset is less than the population mean in the null hypothesis, the p-value will be calculated as the fraction of bootstrap samples less than or equal to 98.2."
   ]
  },
  {
   "cell_type": "code",
   "execution_count": 9,
   "metadata": {},
   "outputs": [
    {
     "name": "stdout",
     "output_type": "stream",
     "text": [
      "p = 0.0\n"
     ]
    }
   ],
   "source": [
    "p = np.sum(bootstrap_replicates <= df['temperature'].mean()) / len(bootstrap_replicates)\n",
    "print('p =', p)"
   ]
  },
  {
   "cell_type": "markdown",
   "metadata": {},
   "source": [
    "A p-value of 0 suggests that the dataset is statistically different from one that would have a mean population body temperature of 98.6F. Consequently, we reject the null hypothesis. "
   ]
  },
  {
   "cell_type": "markdown",
   "metadata": {},
   "source": [
    "### 2. Frequentist Statistical Tests\n",
    "\n",
    "The null and alternative hypotheses remain the same as before:\n",
    "* H<sub>0</sub> : $\\mu$ = 98.6F\n",
    "* H<sub>1</sub> : $\\mu\\neq$ 98.6F\n",
    "\n",
    "#### The Z- Test\n",
    "We use a one sample and two-tail Z-test for the following reasons:\n",
    "1. We are only testing for whether the mean population is 98.6F\n",
    "2. The sample size (130) is larger than 30 and so the Central Limit theorem can be applied. \n",
    "\n",
    "A 5% significance level will be used. Let's compute the p-value and compare it to the significance level."
   ]
  },
  {
   "cell_type": "code",
   "execution_count": 10,
   "metadata": {},
   "outputs": [
    {
     "name": "stdout",
     "output_type": "stream",
     "text": [
      "The p-value (2.45107850705e-08) is less than 0.025\n"
     ]
    }
   ],
   "source": [
    "# calculating the z-score\n",
    "Z_score = (df.temperature.mean() - 98.6)/(df.temperature.std()/ np.sqrt(len(df)))\n",
    "\n",
    "# calculating the p-value\n",
    "p_value = st.norm.cdf(Z_score)\n",
    "\n",
    "# defining significance level\n",
    "sig_level = 0.05/2\n",
    "\n",
    "# check what to print (only works since we know we need to compare results to lower tail)\n",
    "if p_value < sig_level:\n",
    "    print('The p-value (' + str(p_value) + ') is less than 0.025')\n",
    "else:\n",
    "    print('The p-value (' + str(p_value) + ') is greater than 0.025')"
   ]
  },
  {
   "cell_type": "markdown",
   "metadata": {},
   "source": [
    "Based on the above result, we reject the null hypothesis as results once again suggest that the mean population body temperature is not 98.6F. "
   ]
  },
  {
   "cell_type": "markdown",
   "metadata": {},
   "source": [
    "#### The t-Test\n",
    "Finally we compute the results for the t-test below"
   ]
  },
  {
   "cell_type": "code",
   "execution_count": 11,
   "metadata": {},
   "outputs": [
    {
     "name": "stdout",
     "output_type": "stream",
     "text": [
      "The p-value (1.20531602078e-07) is less than 0.025\n"
     ]
    }
   ],
   "source": [
    "# calculating the p-value\n",
    "p_value_t = st.t.cdf(Z_score, df=len(df)-1)\n",
    "\n",
    "# defining significance level\n",
    "sig_level = 0.05/2\n",
    "\n",
    "# check what to print (only works since we know we need to compare results to lower tail)\n",
    "if p_value_t < sig_level:\n",
    "    print('The p-value (' + str(p_value_t) + ') is less than 0.025')\n",
    "else:\n",
    "    print('The p-value (' + str(p_value_t) + ') is greater than 0.025')"
   ]
  },
  {
   "cell_type": "markdown",
   "metadata": {},
   "source": [
    "As before the results are the same as it suggests we reject the null hypothesis. The only difference in the comparison lies in the fact that the p-value for the t-test is greater than that for the z-test.  "
   ]
  },
  {
   "cell_type": "markdown",
   "metadata": {},
   "source": [
    "### Question 4: Draw a small sample of size 10 and repeat frequentist tests"
   ]
  },
  {
   "cell_type": "code",
   "execution_count": 12,
   "metadata": {},
   "outputs": [
    {
     "name": "stdout",
     "output_type": "stream",
     "text": [
      "Z-test: The p-value (0.00295104538049) is less than 0.025\n",
      "t-test: The p-value (0.0111802469985) is less than 0.025\n"
     ]
    }
   ],
   "source": [
    "# drawing a small sample\n",
    "small_sample = np.random.choice(df.temperature, size=10)\n",
    "\n",
    "# calcalating z-score\n",
    "Z_score = (small_sample.mean() - 98.6)/(small_sample.std()/ np.sqrt(10))\n",
    "\n",
    "# Z-TEST\n",
    "# calculating the p-value\n",
    "p_value = st.norm.cdf(Z_score)\n",
    "\n",
    "# defining significance level\n",
    "sig_level = 0.05/2\n",
    "\n",
    "# check what to print (only works since we know we need to compare results to lower tail)\n",
    "if p_value < sig_level:\n",
    "    print('Z-test: The p-value (' + str(p_value) + ') is less than 0.025')\n",
    "else:\n",
    "    print('Z-test: The p-value (' + str(p_value) + ') is greater than 0.025')\n",
    "\n",
    "# t-TEST\n",
    "# calculating the p-value\n",
    "p_value_t = st.t.cdf(Z_score, df=10-1)\n",
    "\n",
    "# check what to print (only works since we know we need to compare results to lower tail)\n",
    "if p_value_t < sig_level:\n",
    "    print('t-test: The p-value (' + str(p_value_t) + ') is less than 0.025')\n",
    "else:\n",
    "    print('t-test: The p-value (' + str(p_value_t) + ') is greater than 0.025')"
   ]
  },
  {
   "cell_type": "markdown",
   "metadata": {},
   "source": [
    "We see from the above code that using a small sample of 10, the z-test suggests the null hypothesis is true while the t-test suggests we reject the null hypothesis. This result indicates that the t-test is better for small sample sizes. "
   ]
  },
  {
   "cell_type": "markdown",
   "metadata": {},
   "source": [
    "### Question 5: What temperatures should we consider abnormal?\n",
    "We consider abnormal temperatures to be those outside the 95% confidence interval of our temperature data."
   ]
  },
  {
   "cell_type": "code",
   "execution_count": 13,
   "metadata": {},
   "outputs": [
    {
     "name": "stdout",
     "output_type": "stream",
     "text": [
      "Lower bound: 98.1231964282\n",
      "Upper bound: 98.3752651103\n"
     ]
    }
   ],
   "source": [
    "# calculating the 95% confidence interval\n",
    "lower_limit, upper_limit = st.norm.interval(0.95, loc = df.temperature.mean(), scale=st.sem(df.temperature))\n",
    "print('Lower bound: ' + str(lower_limit))\n",
    "print('Upper bound: ' + str(upper_limit))"
   ]
  },
  {
   "cell_type": "markdown",
   "metadata": {},
   "source": [
    "The confidence interval above suggests that temperatures below 98.12F and above 98.38F should be considered abnormal. "
   ]
  },
  {
   "cell_type": "markdown",
   "metadata": {},
   "source": [
    "### Question 6: Is there a significant difference between males and females in the normal temperature\n",
    "To answer this question a hypothesis test will be used:\n",
    "1. A z-test is chosen since both the number of males and females are greater than 30.\n",
    "2. A two tailed test is chosen since we are testing for whether or not there is a difference in male and female normal temperature\n",
    "\n",
    "The null and alternative hypotheses are shown below:\n",
    "* H<sub>0</sub> : $\\mu$<sub>M</sub> - $\\mu$<sub>F</sub> = 0\n",
    "* H<sub>1</sub> : $\\mu$<sub>M</sub> - $\\mu$<sub>F</sub> $\\neq$ 0\n",
    "\n",
    "The p-value is calculated below:"
   ]
  },
  {
   "cell_type": "code",
   "execution_count": 14,
   "metadata": {},
   "outputs": [
    {
     "name": "stdout",
     "output_type": "stream",
     "text": [
      "Z-test: The p-value (0.5) is greater than 0.025\n"
     ]
    }
   ],
   "source": [
    "# Selecting males and femalesin normal temperature\n",
    "normal_male = df[(df.gender == 'M') & (df.temperature>= lower_limit) \n",
    "                 & (df.temperature <= upper_limit)].temperature\n",
    "normal_female  = df[(df.gender == 'F') & (df.temperature>= lower_limit) \n",
    "                 & (df.temperature <= upper_limit)].temperature\n",
    "\n",
    "# calculating z-score\n",
    "Z_score = (normal_male.mean() - normal_female.mean())/np.sqrt(((st.sem(normal_male))**2) + ((st.sem(normal_female))**2))\n",
    "\n",
    "# calculating the p-value\n",
    "p_value = st.norm.cdf(Z_score)\n",
    "\n",
    "# defining significance level\n",
    "sig_level = 0.05/2\n",
    "\n",
    "# check what to print (only works since we know we need to compare results to lower tail)\n",
    "if p_value < sig_level:\n",
    "    print('Z-test: The p-value (' + str(p_value) + ') is less than 0.025')\n",
    "else:\n",
    "    print('Z-test: The p-value (' + str(p_value) + ') is greater than 0.025')"
   ]
  },
  {
   "cell_type": "markdown",
   "metadata": {},
   "source": [
    "A p-value of 0.5 suggests that there is no statistical difference between males and females in the normal body temperature range. Consequently, we do not reject the null hypothesis."
   ]
  },
  {
   "cell_type": "code",
   "execution_count": null,
   "metadata": {},
   "outputs": [],
   "source": []
  }
 ],
 "metadata": {
  "kernelspec": {
   "display_name": "Python 3",
   "language": "python",
   "name": "python3"
  },
  "language_info": {
   "codemirror_mode": {
    "name": "ipython",
    "version": 3
   },
   "file_extension": ".py",
   "mimetype": "text/x-python",
   "name": "python",
   "nbconvert_exporter": "python",
   "pygments_lexer": "ipython3",
   "version": "3.6.3"
  }
 },
 "nbformat": 4,
 "nbformat_minor": 1
}
