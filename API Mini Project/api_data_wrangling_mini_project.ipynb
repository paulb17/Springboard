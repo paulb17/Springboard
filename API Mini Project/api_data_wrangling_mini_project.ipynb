{
 "cells": [
  {
   "cell_type": "markdown",
   "metadata": {},
   "source": [
    "This exercise will require you to pull some data from the Qunadl API. Qaundl is currently the most widely used aggregator of financial market data."
   ]
  },
  {
   "cell_type": "markdown",
   "metadata": {},
   "source": [
    "As a first step, you will need to register a free account on the http://www.quandl.com website."
   ]
  },
  {
   "cell_type": "markdown",
   "metadata": {},
   "source": [
    "After you register, you will be provided with a unique API key, that you should store:"
   ]
  },
  {
   "cell_type": "code",
   "execution_count": 1,
   "metadata": {},
   "outputs": [],
   "source": [
    "# Store the API key as a string - according to PEP8, constants are always named in all upper case\n",
    "API_KEY = 'NsvHJEj8bPejFcAVXv31'"
   ]
  },
  {
   "cell_type": "markdown",
   "metadata": {},
   "source": [
    "Qaundl has a large number of data sources, but, unfortunately, most of them require a Premium subscription. Still, there are also a good number of free datasets."
   ]
  },
  {
   "cell_type": "markdown",
   "metadata": {},
   "source": [
    "For this mini project, we will focus on equities data from the Frankfurt Stock Exhange (FSE), which is available for free. We'll try and analyze the stock prices of a company called Carl Zeiss Meditec, which manufactures tools for eye examinations, as well as medical lasers for laser eye surgery: https://www.zeiss.com/meditec/int/home.html. The company is listed under the stock ticker AFX_X."
   ]
  },
  {
   "cell_type": "markdown",
   "metadata": {},
   "source": [
    "You can find the detailed Quandl API instructions here: https://docs.quandl.com/docs/time-series"
   ]
  },
  {
   "cell_type": "markdown",
   "metadata": {},
   "source": [
    "While there is a dedicated Python package for connecting to the Quandl API, we would prefer that you use the *requests* package, which can be easily downloaded using *pip* or *conda*. You can find the documentation for the package here: http://docs.python-requests.org/en/master/ "
   ]
  },
  {
   "cell_type": "markdown",
   "metadata": {},
   "source": [
    "Finally, apart from the *requests* package, you are encouraged to not use any third party Python packages, such as *pandas*, and instead focus on what's available in the Python Standard Library (the *collections* module might come in handy: https://pymotw.com/3/collections/).\n",
    "Also, since you won't have access to DataFrames, you are encouraged to us Python's native data structures - preferably dictionaries, though some questions can also be answered using lists.\n",
    "You can read more on these data structures here: https://docs.python.org/3/tutorial/datastructures.html"
   ]
  },
  {
   "cell_type": "markdown",
   "metadata": {},
   "source": [
    "Keep in mind that the JSON responses you will be getting from the API map almost one-to-one to Python's dictionaries. Unfortunately, they can be very nested, so make sure you read up on indexing dictionaries in the documentation provided above."
   ]
  },
  {
   "cell_type": "code",
   "execution_count": 2,
   "metadata": {},
   "outputs": [],
   "source": [
    "# First, import the relevant modules\n",
    "import requests\n",
    "import json\n",
    "import statistics"
   ]
  },
  {
   "cell_type": "code",
   "execution_count": 3,
   "metadata": {},
   "outputs": [
    {
     "data": {
      "text/plain": [
       "'{\"dataset\":{\"id\":10095370,\"dataset_code\":\"AFX_X\",\"database_code\":\"FSE\",\"name\":\"Carl Zeiss Meditec (AFX_X)\",\"description\":\"Stock Prices for Carl Zeiss Meditec (AFX) from the Frankfurt Stock Exchange.\\\\u003cbr\\\\u003e\\\\u003cbr\\\\u003eTrading System: Xetra\\\\u003cbr\\\\u003e\\\\u003cbr\\\\u003eISIN: DE0005313704\",\"refreshed_at\":\"2018-09-21T22:43:40.300Z\",\"newest_available_date\":\"2018-09-21\",\"oldest_available_date\":\"2000-06-07\",\"column_names\":[\"Date\",\"Open\",\"High\",\"Low\",\"Close\",\"Change\",\"Traded Volume\",\"Turnover\",\"Last Price of the Day\",\"Daily Traded Units\",\"Daily Turnover\"],\"frequency\":\"daily\",\"type\":\"Time Series\",\"premium\":false,\"limit\":1,\"transform\":null,\"column_index\":null,\"start_date\":\"2000-06-07\",\"end_date\":\"2018-09-21\",\"data\":[[\"2000-12-31\",null,null,null,21.5,null,0.0,null,null,null,0.0]],\"collapse\":\"annual\",\"order\":\"asc\",\"database_id\":6129}}'"
      ]
     },
     "execution_count": 3,
     "metadata": {},
     "output_type": "execute_result"
    }
   ],
   "source": [
    "# Now, call the Quandl API and pull out a small sample of the data (only one day) to get a glimpse\n",
    "# into the JSON structure that will be returned\n",
    "data_format = \"http://www.quandl.com/api/v3/datasets/FSE/AFX_X.json?\"\n",
    "optional_parameters = \"collapse=annual&rows=1&order=asc&api_key=\"\n",
    "r = requests.get(data_format + optional_parameters + API_KEY)\n",
    "r.text"
   ]
  },
  {
   "cell_type": "markdown",
   "metadata": {
    "collapsed": true
   },
   "source": [
    "Inspect the JSON structure of the object you created, and take note of how nested it is, as well as the overall structure"
   ]
  },
  {
   "cell_type": "markdown",
   "metadata": {},
   "source": [
    "These are your tasks for this mini project:\n",
    "\n",
    "1. Collect data from the Franfurt Stock Exchange, for the ticker AFX_X, for the whole year 2017 (keep in mind that the date format is YYYY-MM-DD).\n",
    "2. Convert the returned JSON object into a Python dictionary.\n",
    "3. Calculate what the highest and lowest opening prices were for the stock in this period. (col1)\n",
    "4. What was the largest change in any one day (based on High and Low price)? \n",
    "5. What was the largest change between any two days (based on Closing Price)?\n",
    "6. What was the average daily trading volume during this year?\n",
    "7. (Optional) What was the median trading volume during this year. (Note: you may need to implement your own function for calculating the median.)"
   ]
  },
  {
   "cell_type": "markdown",
   "metadata": {
    "collapsed": true
   },
   "source": [
    "### Q1 and Q2: Collecting data and storing in Python dictionary"
   ]
  },
  {
   "cell_type": "code",
   "execution_count": 4,
   "metadata": {},
   "outputs": [
    {
     "data": {
      "text/plain": [
       "['Date',\n",
       " 'Open',\n",
       " 'High',\n",
       " 'Low',\n",
       " 'Close',\n",
       " 'Change',\n",
       " 'Traded Volume',\n",
       " 'Turnover',\n",
       " 'Last Price of the Day',\n",
       " 'Daily Traded Units',\n",
       " 'Daily Turnover']"
      ]
     },
     "execution_count": 4,
     "metadata": {},
     "output_type": "execute_result"
    }
   ],
   "source": [
    "# defining optional parameters to collect daily open prices for the year 2017\n",
    "optional_parameters = \"start_date=2017-01-01&end_date=2017-12-31&collapse=daily&api_key=\"\n",
    "\n",
    "# making GET request\n",
    "r = requests.get(data_format + optional_parameters + API_KEY)\n",
    "\n",
    "# converting returned JSON to dictionary\n",
    "AFX_data = r.json()\n",
    "\n",
    "# displaying column names\n",
    "AFX_data['dataset']['column_names']"
   ]
  },
  {
   "cell_type": "markdown",
   "metadata": {},
   "source": [
    "A brief description of columns used in this mini project is provided below:\n",
    "0. The first column shows the date\n",
    "1. The second column shows the opening price of the stock at the start of a given day\n",
    "2. The third column shows the highest price of the stock in a given day .\n",
    "3. The fourth column shows the lowest price of the stock in a given day.\n",
    "4. The fifth column shows the closing price of the stock at the end of a given day.\n",
    "5. The seventh column represents the traded volume at the end of a given day.\n"
   ]
  },
  {
   "cell_type": "markdown",
   "metadata": {},
   "source": [
    "### Q3: Highest and Lowest Opening Prices"
   ]
  },
  {
   "cell_type": "code",
   "execution_count": 5,
   "metadata": {},
   "outputs": [
    {
     "name": "stdout",
     "output_type": "stream",
     "text": [
      "Maximum Opening Price: 53.11\n",
      "Minimum Opening Price: 34.0\n"
     ]
    }
   ],
   "source": [
    "# Creating an object for the list holding relevant data\n",
    "AFX_list = AFX_data['dataset']['data']\n",
    "\n",
    "# Creating placeholders for the maximum and minimum opening prices (OP)\n",
    "max_OP = None\n",
    "min_OP = None\n",
    "\n",
    "# Looping through the list to find max and min OP\n",
    "for values in AFX_list:\n",
    "    \n",
    "    # defining opening price (OP)\n",
    "    OP = values[1]\n",
    "   \n",
    "    # check for maximum opening price \n",
    "    if OP == None:\n",
    "        continue \n",
    "    elif max_OP == None:\n",
    "        max_OP = OP\n",
    "    elif max_OP < OP:\n",
    "        max_OP = OP\n",
    "    \n",
    "    # check for minimum opening price\n",
    "    if OP == None:\n",
    "        continue\n",
    "    elif (min_OP == None):\n",
    "        min_OP = OP\n",
    "    elif min_OP > OP:\n",
    "        min_OP = OP\n",
    "\n",
    "# printing results\n",
    "print('Maximum Opening Price: ' + str(max_OP))\n",
    "print('Minimum Opening Price: ' + str(min_OP))"
   ]
  },
  {
   "cell_type": "markdown",
   "metadata": {},
   "source": [
    "### Q4: Largest Change in any one day"
   ]
  },
  {
   "cell_type": "code",
   "execution_count": 6,
   "metadata": {},
   "outputs": [
    {
     "name": "stdout",
     "output_type": "stream",
     "text": [
      "Maximum Change in Stock Price: 2.8100000000000023\n"
     ]
    }
   ],
   "source": [
    "# Creating placeholders for the largest change in stock prices during a day\n",
    "max_change = None\n",
    "\n",
    "# Looping through the list to find largest change in price\n",
    "for values in AFX_list:\n",
    "    \n",
    "    # defining change in stock price for the day\n",
    "    try:\n",
    "        change = values[2]-values[3]\n",
    "    except Exception:\n",
    "        change = 0\n",
    "   \n",
    "    # check for maximum change in stock price \n",
    "    if max_change == None:\n",
    "        max_change = change\n",
    "    elif max_change < change:\n",
    "        max_change = change\n",
    "    \n",
    "# printing result\n",
    "print('Maximum Change in Stock Price: ' + str(max_change))"
   ]
  },
  {
   "cell_type": "markdown",
   "metadata": {},
   "source": [
    "### Q5: Largest Change between any two days\n",
    "* My solution to this problem solves for the largest change in stock price based on the magnitude of the change. "
   ]
  },
  {
   "cell_type": "code",
   "execution_count": 7,
   "metadata": {},
   "outputs": [
    {
     "name": "stdout",
     "output_type": "stream",
     "text": [
      "Maximum Change in Closing Price: 2.559999999999995\n"
     ]
    }
   ],
   "source": [
    "# Creating placeholders for the largest change in stock prices during a day\n",
    "max_change = None\n",
    "\n",
    "# Looping through the list to find largest change in closing price\n",
    "for index, values in enumerate(AFX_list):\n",
    "    \n",
    "    # calculating change in closing price\n",
    "    try:\n",
    "        change = AFX_list[index+1][4] - AFX_list[index][4]\n",
    "    except Exception:\n",
    "        change = 0\n",
    "   \n",
    "    # check for maximum change in stock price \n",
    "    if max_change == None:\n",
    "        max_change = change\n",
    "    elif max_change < abs(change):\n",
    "        max_change = change\n",
    "    \n",
    "# printing result\n",
    "print('Maximum Change in Closing Price: ' + str(max_change))"
   ]
  },
  {
   "cell_type": "markdown",
   "metadata": {},
   "source": [
    "From the above result we can tell the largest change in closing price for the stock in 2017 was a positive one."
   ]
  },
  {
   "cell_type": "markdown",
   "metadata": {},
   "source": [
    "### Q6: The average trading volume"
   ]
  },
  {
   "cell_type": "code",
   "execution_count": 8,
   "metadata": {},
   "outputs": [
    {
     "name": "stdout",
     "output_type": "stream",
     "text": [
      "The average trading volumne: 89124.33725490196\n"
     ]
    }
   ],
   "source": [
    "# Calculating the average trading volume\n",
    "trade_volumes = list()\n",
    "\n",
    "# Looping through the list to find largest change in closing price\n",
    "for values in AFX_list:\n",
    "    \n",
    "    # defining trading volume\n",
    "    trade_volume = values[6] \n",
    "   \n",
    "    # check for maximum change in stock price \n",
    "    trade_volumes.append(trade_volume)\n",
    "\n",
    "# calculating average volume\n",
    "average_volume = statistics.mean(trade_volumes)\n",
    "\n",
    "# printing result\n",
    "print('The average trading volumne: ' + str(average_volume))"
   ]
  },
  {
   "cell_type": "markdown",
   "metadata": {},
   "source": [
    "### Q7: The median trading volume"
   ]
  },
  {
   "cell_type": "code",
   "execution_count": 9,
   "metadata": {},
   "outputs": [
    {
     "name": "stdout",
     "output_type": "stream",
     "text": [
      "The median trading volume: 76286.0\n"
     ]
    }
   ],
   "source": [
    "# calculating median volume\n",
    "median_volume = statistics.median(trade_volumes)\n",
    "\n",
    "# printing results\n",
    "print('The median trading volume: ' + str(median_volume))"
   ]
  }
 ],
 "metadata": {
  "kernelspec": {
   "display_name": "Python 3",
   "language": "python",
   "name": "python3"
  },
  "language_info": {
   "codemirror_mode": {
    "name": "ipython",
    "version": 3
   },
   "file_extension": ".py",
   "mimetype": "text/x-python",
   "name": "python",
   "nbconvert_exporter": "python",
   "pygments_lexer": "ipython3",
   "version": "3.6.3"
  }
 },
 "nbformat": 4,
 "nbformat_minor": 2
}
